{
 "cells": [
  {
   "cell_type": "code",
   "execution_count": null,
   "id": "056a87bc",
   "metadata": {
    "scrolled": true
   },
   "outputs": [
    {
     "name": "stderr",
     "output_type": "stream",
     "text": [
      "/home/serena/.local/lib/python3.8/site-packages/gym/spaces/box.py:73: UserWarning: \u001b[33mWARN: Box bound precision lowered by casting to float32\u001b[0m\n",
      "  logger.warn(\n"
     ]
    },
    {
     "data": {
      "application/vnd.jupyter.widget-view+json": {
       "model_id": "805df82c12f14831a7f19b66f72fb269",
       "version_major": 2,
       "version_minor": 0
      },
      "text/plain": [
       "Image(value=b'')"
      ]
     },
     "metadata": {},
     "output_type": "display_data"
    },
    {
     "data": {
      "application/vnd.jupyter.widget-view+json": {
       "model_id": "300897b0c8074443a18588554329782f",
       "version_major": 2,
       "version_minor": 0
      },
      "text/plain": [
       "Image(value=b'')"
      ]
     },
     "metadata": {},
     "output_type": "display_data"
    },
    {
     "name": "stdout",
     "output_type": "stream",
     "text": [
      "{(2, 2): 1}\n",
      "What action should I take?\n",
      "w,a,s,d: up, left, down, right\n",
      "e: eat\n",
      "r: drink\n",
      "w\n",
      "What action should I take?\n",
      "w,a,s,d: up, left, down, right\n",
      "e: eat\n",
      "r: drink\n",
      "s\n",
      "What action should I take?\n",
      "w,a,s,d: up, left, down, right\n",
      "e: eat\n",
      "r: drink\n",
      "a\n",
      "What action should I take?\n",
      "w,a,s,d: up, left, down, right\n",
      "e: eat\n",
      "r: drink\n",
      "d\n",
      "What action should I take?\n",
      "w,a,s,d: up, left, down, right\n",
      "e: eat\n",
      "r: drink\n"
     ]
    }
   ],
   "source": [
    "import gym\n",
    "import time\n",
    "import sys\n",
    "import pickle\n",
    "\n",
    "from gym_hungry_thirsty.envs.hungry_thirsty_env import Available_Actions\n",
    "from copy import deepcopy\n",
    "import ipycanvas\n",
    "import ipywidgets\n",
    "from IPython import display\n",
    "\n",
    "env = gym.make('gym_hungry_thirsty:hungry-thirsty-v0')\n",
    "reward = None\n",
    "return_val = None\n",
    "\n",
    "NUM_EPISODES = 1\n",
    "\n",
    "obs = env.reset()\n",
    "\n",
    "# Make an Image Widget and display it\n",
    "wIm = ipywidgets.Image()\n",
    "display.display(wIm)\n",
    "\n",
    "wIm2 = ipywidgets.Image()\n",
    "display.display(wIm2)\n",
    "\n",
    "env.jupyter_render(wIm)  \n",
    "\n",
    "state_history = {}\n",
    "if obs[\"position\"] in state_history.keys():\n",
    "    state_history[obs[\"position\"]] +=1 \n",
    "else:\n",
    "    state_history[obs[\"position\"]] = 1\n",
    "        \n",
    "print (state_history)\n",
    "env.render_state_distribution(wIm2, state_visit_dict=state_history)\n",
    "   \n",
    "i = 0 \n",
    "while True:\n",
    "    print(\"What action should I take?\\n\"\n",
    "          \"w,a,s,d: up, left, down, right\\n\"\n",
    "          \"e: eat\\n\"\n",
    "          \"r: drink\")\n",
    "    try:\n",
    "        action = input()\n",
    "    except KeyboardInterrupt:\n",
    "        sys.exit(0)\n",
    "\n",
    "    if action == \"w\":\n",
    "        action = Available_Actions.UP\n",
    "    elif action == \"a\":\n",
    "        action = Available_Actions.LEFT\n",
    "    elif action == \"s\":\n",
    "        action = Available_Actions.DOWN\n",
    "    elif action == \"d\":\n",
    "        action = Available_Actions.RIGHT\n",
    "    elif action == \"e\":\n",
    "        action = Available_Actions.EAT\n",
    "    elif action == \"r\":\n",
    "        action = Available_Actions.DRINK\n",
    "\n",
    "    obs_next, _, done, info = env.step(action)\n",
    "    obs = obs_next\n",
    "    \n",
    "    if obs[\"position\"] in state_history.keys():\n",
    "        state_history[obs[\"position\"]] +=1 \n",
    "    else:\n",
    "        state_history[obs[\"position\"]] = 1\n",
    "    \n",
    "    env.jupyter_render(wIm, score=1)        \n",
    "    env.render_state_distribution(wIm2, state_visit_dict=state_history)\n",
    "    \n",
    "    i += 1\n",
    "    if i == 80: \n",
    "        break\n",
    "time.sleep(0.2)\n"
   ]
  },
  {
   "cell_type": "code",
   "execution_count": null,
   "id": "47686097",
   "metadata": {},
   "outputs": [],
   "source": []
  },
  {
   "cell_type": "code",
   "execution_count": null,
   "id": "6713ecb0",
   "metadata": {},
   "outputs": [],
   "source": []
  }
 ],
 "metadata": {
  "kernelspec": {
   "display_name": "Python 3 (ipykernel)",
   "language": "python",
   "name": "python3"
  },
  "language_info": {
   "codemirror_mode": {
    "name": "ipython",
    "version": 3
   },
   "file_extension": ".py",
   "mimetype": "text/x-python",
   "name": "python",
   "nbconvert_exporter": "python",
   "pygments_lexer": "ipython3",
   "version": "3.8.10"
  }
 },
 "nbformat": 4,
 "nbformat_minor": 5
}

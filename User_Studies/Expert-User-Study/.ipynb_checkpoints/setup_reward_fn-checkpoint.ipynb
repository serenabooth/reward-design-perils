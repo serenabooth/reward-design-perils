{
 "cells": [
  {
   "cell_type": "code",
   "execution_count": 64,
   "metadata": {},
   "outputs": [],
   "source": [
    "from enum import Enum\n",
    "\n",
    "class State(Enum):\n",
    "    HUNGRY_AND_THIRSTY         = 0\n",
    "    HUNGRY_AND_NOT_THIRSTY     = 1\n",
    "    NOT_HUNGRY_AND_THIRSTY     = 2\n",
    "    NOT_HUNGRY_AND_NOT_THIRSTY = 3\n",
    "    \n",
    "    def get_label(curr_state):\n",
    "        if curr_state == State.HUNGRY_AND_THIRSTY:\n",
    "            return \"hungry AND thirsty\"\n",
    "        elif curr_state == State.HUNGRY_AND_NOT_THIRSTY:\n",
    "            return \"hungry AND not thirsty\"\n",
    "        elif curr_state == State.NOT_HUNGRY_AND_NOT_THIRSTY:\n",
    "            return \"not hungry AND not thirsty\"\n",
    "        elif curr_state == State.NOT_HUNGRY_AND_THIRSTY:\n",
    "            return \"not hungry AND thirsty\"\n",
    "        else:\n",
    "            return Exception(\"curr_state may not be a State Enum\")"
   ]
  },
  {
   "cell_type": "code",
   "execution_count": 63,
   "metadata": {},
   "outputs": [],
   "source": [
    "# widgets documentation: https://medium.com/@jdchipox/how-to-interact-with-jupyter-33a98686f24e \n",
    "from IPython.display import display, Markdown, clear_output\n",
    "import ipywidgets as widgets\n",
    "from ipywidgets import Box, HBox, VBox, Label, Layout, GridBox\n",
    "import itertools\n",
    "import numpy as np\n",
    "\n",
    "sliders = {}\n",
    "\n",
    "for state in State:\n",
    "    sliders[state] = widgets.FloatSlider(\n",
    "                        value=0,\n",
    "                        min=-1,\n",
    "                        max=1,\n",
    "                        step=0.05,\n",
    "                        description=State.get_label(state),\n",
    "                        layout=Layout(width='500px'),\n",
    "                        style={'description_width': 'initial'})\n",
    "    \n",
    "box_layout = Layout(display='flex',\n",
    "                    flex_flow='column',\n",
    "                    align_items='center',\n",
    "                    border='solid',\n",
    "                    width='60%')\n",
    "\n",
    "select_reward_fn = Box(children=list(sliders.values()), layout=box_layout)"
   ]
  },
  {
   "cell_type": "code",
   "execution_count": 1,
   "metadata": {},
   "outputs": [],
   "source": [
    "def get_reward_fn_params():\n",
    "    params = []\n",
    "    for predicate in State:\n",
    "        params.append(sliders[predicate].value)\n",
    "    return params"
   ]
  }
 ],
 "metadata": {
  "kernelspec": {
   "display_name": "Python 3 (ipykernel)",
   "language": "python",
   "name": "python3"
  },
  "language_info": {
   "codemirror_mode": {
    "name": "ipython",
    "version": 3
   },
   "file_extension": ".py",
   "mimetype": "text/x-python",
   "name": "python",
   "nbconvert_exporter": "python",
   "pygments_lexer": "ipython3",
   "version": "3.8.10"
  }
 },
 "nbformat": 4,
 "nbformat_minor": 4
}
